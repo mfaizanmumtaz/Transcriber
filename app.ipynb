{
 "cells": [
  {
   "cell_type": "code",
   "execution_count": 4,
   "metadata": {},
   "outputs": [
    {
     "name": "stdout",
     "output_type": "stream",
     "text": [
      "Jeff Bezos on how to make decisions Lex Fridman Podcast Clips\n"
     ]
    }
   ],
   "source": [
    "import re\n",
    "\n",
    "output = re.sub(r'[\\\\/*?:\"<>|]', '',\"Jeff Bezos on how to make decisions | Lex Fridman Podcast Clips\")\n",
    "filename = re.sub(r'\\s+', ' ', output).strip()\n",
    "\n",
    "print(filename)"
   ]
  }
 ],
 "metadata": {
  "kernelspec": {
   "display_name": "Python 3",
   "language": "python",
   "name": "python3"
  },
  "language_info": {
   "codemirror_mode": {
    "name": "ipython",
    "version": 3
   },
   "file_extension": ".py",
   "mimetype": "text/x-python",
   "name": "python",
   "nbconvert_exporter": "python",
   "pygments_lexer": "ipython3",
   "version": "3.10.12"
  }
 },
 "nbformat": 4,
 "nbformat_minor": 2
}
